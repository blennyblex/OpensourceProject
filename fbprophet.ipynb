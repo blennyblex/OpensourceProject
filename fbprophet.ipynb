{
  "nbformat": 4,
  "nbformat_minor": 0,
  "metadata": {
    "colab": {
      "name": "fbprophet.ipynb",
      "provenance": [],
      "collapsed_sections": [],
      "authorship_tag": "ABX9TyMofnGY4UWSiqlBC/2gBBg6",
      "include_colab_link": true
    },
    "kernelspec": {
      "name": "python3",
      "display_name": "Python 3"
    },
    "widgets": {
      "application/vnd.jupyter.widget-state+json": {
        "25ee24bb362b49cfaae068b7e230ad0f": {
          "model_module": "@jupyter-widgets/controls",
          "model_name": "HBoxModel",
          "state": {
            "_view_name": "HBoxView",
            "_dom_classes": [],
            "_model_name": "HBoxModel",
            "_view_module": "@jupyter-widgets/controls",
            "_model_module_version": "1.5.0",
            "_view_count": null,
            "_view_module_version": "1.5.0",
            "box_style": "",
            "layout": "IPY_MODEL_5922573f6c394a96945f65a1af325c0f",
            "_model_module": "@jupyter-widgets/controls",
            "children": [
              "IPY_MODEL_542760b6e50743d1999de5afddf7c146",
              "IPY_MODEL_d7c1d08e5e084580a1e46bb1a3c67899"
            ]
          }
        },
        "5922573f6c394a96945f65a1af325c0f": {
          "model_module": "@jupyter-widgets/base",
          "model_name": "LayoutModel",
          "state": {
            "_view_name": "LayoutView",
            "grid_template_rows": null,
            "right": null,
            "justify_content": null,
            "_view_module": "@jupyter-widgets/base",
            "overflow": null,
            "_model_module_version": "1.2.0",
            "_view_count": null,
            "flex_flow": null,
            "width": null,
            "min_width": null,
            "border": null,
            "align_items": null,
            "bottom": null,
            "_model_module": "@jupyter-widgets/base",
            "top": null,
            "grid_column": null,
            "overflow_y": null,
            "overflow_x": null,
            "grid_auto_flow": null,
            "grid_area": null,
            "grid_template_columns": null,
            "flex": null,
            "_model_name": "LayoutModel",
            "justify_items": null,
            "grid_row": null,
            "max_height": null,
            "align_content": null,
            "visibility": null,
            "align_self": null,
            "height": null,
            "min_height": null,
            "padding": null,
            "grid_auto_rows": null,
            "grid_gap": null,
            "max_width": null,
            "order": null,
            "_view_module_version": "1.2.0",
            "grid_template_areas": null,
            "object_position": null,
            "object_fit": null,
            "grid_auto_columns": null,
            "margin": null,
            "display": null,
            "left": null
          }
        },
        "542760b6e50743d1999de5afddf7c146": {
          "model_module": "@jupyter-widgets/controls",
          "model_name": "FloatProgressModel",
          "state": {
            "_view_name": "ProgressView",
            "style": "IPY_MODEL_20ef3c612c72499693cab273b6685dde",
            "_dom_classes": [],
            "description": "100%",
            "_model_name": "FloatProgressModel",
            "bar_style": "success",
            "max": 17,
            "_view_module": "@jupyter-widgets/controls",
            "_model_module_version": "1.5.0",
            "value": 17,
            "_view_count": null,
            "_view_module_version": "1.5.0",
            "orientation": "horizontal",
            "min": 0,
            "description_tooltip": null,
            "_model_module": "@jupyter-widgets/controls",
            "layout": "IPY_MODEL_34d7befd87c546179e901b0e0b02c6f7"
          }
        },
        "d7c1d08e5e084580a1e46bb1a3c67899": {
          "model_module": "@jupyter-widgets/controls",
          "model_name": "HTMLModel",
          "state": {
            "_view_name": "HTMLView",
            "style": "IPY_MODEL_e7f40e66899d4680a4f43bb681030a30",
            "_dom_classes": [],
            "description": "",
            "_model_name": "HTMLModel",
            "placeholder": "​",
            "_view_module": "@jupyter-widgets/controls",
            "_model_module_version": "1.5.0",
            "value": " 17/17 [04:46&lt;00:00, 16.87s/it]",
            "_view_count": null,
            "_view_module_version": "1.5.0",
            "description_tooltip": null,
            "_model_module": "@jupyter-widgets/controls",
            "layout": "IPY_MODEL_4efc3fcc787f4c88be6c88bcd7ed23f2"
          }
        },
        "20ef3c612c72499693cab273b6685dde": {
          "model_module": "@jupyter-widgets/controls",
          "model_name": "ProgressStyleModel",
          "state": {
            "_view_name": "StyleView",
            "_model_name": "ProgressStyleModel",
            "description_width": "initial",
            "_view_module": "@jupyter-widgets/base",
            "_model_module_version": "1.5.0",
            "_view_count": null,
            "_view_module_version": "1.2.0",
            "bar_color": null,
            "_model_module": "@jupyter-widgets/controls"
          }
        },
        "34d7befd87c546179e901b0e0b02c6f7": {
          "model_module": "@jupyter-widgets/base",
          "model_name": "LayoutModel",
          "state": {
            "_view_name": "LayoutView",
            "grid_template_rows": null,
            "right": null,
            "justify_content": null,
            "_view_module": "@jupyter-widgets/base",
            "overflow": null,
            "_model_module_version": "1.2.0",
            "_view_count": null,
            "flex_flow": null,
            "width": null,
            "min_width": null,
            "border": null,
            "align_items": null,
            "bottom": null,
            "_model_module": "@jupyter-widgets/base",
            "top": null,
            "grid_column": null,
            "overflow_y": null,
            "overflow_x": null,
            "grid_auto_flow": null,
            "grid_area": null,
            "grid_template_columns": null,
            "flex": null,
            "_model_name": "LayoutModel",
            "justify_items": null,
            "grid_row": null,
            "max_height": null,
            "align_content": null,
            "visibility": null,
            "align_self": null,
            "height": null,
            "min_height": null,
            "padding": null,
            "grid_auto_rows": null,
            "grid_gap": null,
            "max_width": null,
            "order": null,
            "_view_module_version": "1.2.0",
            "grid_template_areas": null,
            "object_position": null,
            "object_fit": null,
            "grid_auto_columns": null,
            "margin": null,
            "display": null,
            "left": null
          }
        },
        "e7f40e66899d4680a4f43bb681030a30": {
          "model_module": "@jupyter-widgets/controls",
          "model_name": "DescriptionStyleModel",
          "state": {
            "_view_name": "StyleView",
            "_model_name": "DescriptionStyleModel",
            "description_width": "",
            "_view_module": "@jupyter-widgets/base",
            "_model_module_version": "1.5.0",
            "_view_count": null,
            "_view_module_version": "1.2.0",
            "_model_module": "@jupyter-widgets/controls"
          }
        },
        "4efc3fcc787f4c88be6c88bcd7ed23f2": {
          "model_module": "@jupyter-widgets/base",
          "model_name": "LayoutModel",
          "state": {
            "_view_name": "LayoutView",
            "grid_template_rows": null,
            "right": null,
            "justify_content": null,
            "_view_module": "@jupyter-widgets/base",
            "overflow": null,
            "_model_module_version": "1.2.0",
            "_view_count": null,
            "flex_flow": null,
            "width": null,
            "min_width": null,
            "border": null,
            "align_items": null,
            "bottom": null,
            "_model_module": "@jupyter-widgets/base",
            "top": null,
            "grid_column": null,
            "overflow_y": null,
            "overflow_x": null,
            "grid_auto_flow": null,
            "grid_area": null,
            "grid_template_columns": null,
            "flex": null,
            "_model_name": "LayoutModel",
            "justify_items": null,
            "grid_row": null,
            "max_height": null,
            "align_content": null,
            "visibility": null,
            "align_self": null,
            "height": null,
            "min_height": null,
            "padding": null,
            "grid_auto_rows": null,
            "grid_gap": null,
            "max_width": null,
            "order": null,
            "_view_module_version": "1.2.0",
            "grid_template_areas": null,
            "object_position": null,
            "object_fit": null,
            "grid_auto_columns": null,
            "margin": null,
            "display": null,
            "left": null
          }
        },
        "e11f5541c7bc4ff596cf3fe06fe722b8": {
          "model_module": "@jupyter-widgets/controls",
          "model_name": "HBoxModel",
          "state": {
            "_view_name": "HBoxView",
            "_dom_classes": [],
            "_model_name": "HBoxModel",
            "_view_module": "@jupyter-widgets/controls",
            "_model_module_version": "1.5.0",
            "_view_count": null,
            "_view_module_version": "1.5.0",
            "box_style": "",
            "layout": "IPY_MODEL_a133d66fbf184125b78661fd71d09239",
            "_model_module": "@jupyter-widgets/controls",
            "children": [
              "IPY_MODEL_1e9a5a45cd9248aea7bec0708558fc02",
              "IPY_MODEL_96e6bd1fbfea4d1190076dcc64cd2864"
            ]
          }
        },
        "a133d66fbf184125b78661fd71d09239": {
          "model_module": "@jupyter-widgets/base",
          "model_name": "LayoutModel",
          "state": {
            "_view_name": "LayoutView",
            "grid_template_rows": null,
            "right": null,
            "justify_content": null,
            "_view_module": "@jupyter-widgets/base",
            "overflow": null,
            "_model_module_version": "1.2.0",
            "_view_count": null,
            "flex_flow": null,
            "width": null,
            "min_width": null,
            "border": null,
            "align_items": null,
            "bottom": null,
            "_model_module": "@jupyter-widgets/base",
            "top": null,
            "grid_column": null,
            "overflow_y": null,
            "overflow_x": null,
            "grid_auto_flow": null,
            "grid_area": null,
            "grid_template_columns": null,
            "flex": null,
            "_model_name": "LayoutModel",
            "justify_items": null,
            "grid_row": null,
            "max_height": null,
            "align_content": null,
            "visibility": null,
            "align_self": null,
            "height": null,
            "min_height": null,
            "padding": null,
            "grid_auto_rows": null,
            "grid_gap": null,
            "max_width": null,
            "order": null,
            "_view_module_version": "1.2.0",
            "grid_template_areas": null,
            "object_position": null,
            "object_fit": null,
            "grid_auto_columns": null,
            "margin": null,
            "display": null,
            "left": null
          }
        },
        "1e9a5a45cd9248aea7bec0708558fc02": {
          "model_module": "@jupyter-widgets/controls",
          "model_name": "FloatProgressModel",
          "state": {
            "_view_name": "ProgressView",
            "style": "IPY_MODEL_c3690ab35728433591ed8bfcd5a375fc",
            "_dom_classes": [],
            "description": "100%",
            "_model_name": "FloatProgressModel",
            "bar_style": "success",
            "max": 22,
            "_view_module": "@jupyter-widgets/controls",
            "_model_module_version": "1.5.0",
            "value": 22,
            "_view_count": null,
            "_view_module_version": "1.5.0",
            "orientation": "horizontal",
            "min": 0,
            "description_tooltip": null,
            "_model_module": "@jupyter-widgets/controls",
            "layout": "IPY_MODEL_954b8322098e414c9fe98cd7507350c0"
          }
        },
        "96e6bd1fbfea4d1190076dcc64cd2864": {
          "model_module": "@jupyter-widgets/controls",
          "model_name": "HTMLModel",
          "state": {
            "_view_name": "HTMLView",
            "style": "IPY_MODEL_8cb81dc490d1455abdbb8e0922360c2a",
            "_dom_classes": [],
            "description": "",
            "_model_name": "HTMLModel",
            "placeholder": "​",
            "_view_module": "@jupyter-widgets/controls",
            "_model_module_version": "1.5.0",
            "value": " 22/22 [01:50&lt;00:00,  5.00s/it]",
            "_view_count": null,
            "_view_module_version": "1.5.0",
            "description_tooltip": null,
            "_model_module": "@jupyter-widgets/controls",
            "layout": "IPY_MODEL_2d909bd6d02243abba3ba097e5062569"
          }
        },
        "c3690ab35728433591ed8bfcd5a375fc": {
          "model_module": "@jupyter-widgets/controls",
          "model_name": "ProgressStyleModel",
          "state": {
            "_view_name": "StyleView",
            "_model_name": "ProgressStyleModel",
            "description_width": "initial",
            "_view_module": "@jupyter-widgets/base",
            "_model_module_version": "1.5.0",
            "_view_count": null,
            "_view_module_version": "1.2.0",
            "bar_color": null,
            "_model_module": "@jupyter-widgets/controls"
          }
        },
        "954b8322098e414c9fe98cd7507350c0": {
          "model_module": "@jupyter-widgets/base",
          "model_name": "LayoutModel",
          "state": {
            "_view_name": "LayoutView",
            "grid_template_rows": null,
            "right": null,
            "justify_content": null,
            "_view_module": "@jupyter-widgets/base",
            "overflow": null,
            "_model_module_version": "1.2.0",
            "_view_count": null,
            "flex_flow": null,
            "width": null,
            "min_width": null,
            "border": null,
            "align_items": null,
            "bottom": null,
            "_model_module": "@jupyter-widgets/base",
            "top": null,
            "grid_column": null,
            "overflow_y": null,
            "overflow_x": null,
            "grid_auto_flow": null,
            "grid_area": null,
            "grid_template_columns": null,
            "flex": null,
            "_model_name": "LayoutModel",
            "justify_items": null,
            "grid_row": null,
            "max_height": null,
            "align_content": null,
            "visibility": null,
            "align_self": null,
            "height": null,
            "min_height": null,
            "padding": null,
            "grid_auto_rows": null,
            "grid_gap": null,
            "max_width": null,
            "order": null,
            "_view_module_version": "1.2.0",
            "grid_template_areas": null,
            "object_position": null,
            "object_fit": null,
            "grid_auto_columns": null,
            "margin": null,
            "display": null,
            "left": null
          }
        },
        "8cb81dc490d1455abdbb8e0922360c2a": {
          "model_module": "@jupyter-widgets/controls",
          "model_name": "DescriptionStyleModel",
          "state": {
            "_view_name": "StyleView",
            "_model_name": "DescriptionStyleModel",
            "description_width": "",
            "_view_module": "@jupyter-widgets/base",
            "_model_module_version": "1.5.0",
            "_view_count": null,
            "_view_module_version": "1.2.0",
            "_model_module": "@jupyter-widgets/controls"
          }
        },
        "2d909bd6d02243abba3ba097e5062569": {
          "model_module": "@jupyter-widgets/base",
          "model_name": "LayoutModel",
          "state": {
            "_view_name": "LayoutView",
            "grid_template_rows": null,
            "right": null,
            "justify_content": null,
            "_view_module": "@jupyter-widgets/base",
            "overflow": null,
            "_model_module_version": "1.2.0",
            "_view_count": null,
            "flex_flow": null,
            "width": null,
            "min_width": null,
            "border": null,
            "align_items": null,
            "bottom": null,
            "_model_module": "@jupyter-widgets/base",
            "top": null,
            "grid_column": null,
            "overflow_y": null,
            "overflow_x": null,
            "grid_auto_flow": null,
            "grid_area": null,
            "grid_template_columns": null,
            "flex": null,
            "_model_name": "LayoutModel",
            "justify_items": null,
            "grid_row": null,
            "max_height": null,
            "align_content": null,
            "visibility": null,
            "align_self": null,
            "height": null,
            "min_height": null,
            "padding": null,
            "grid_auto_rows": null,
            "grid_gap": null,
            "max_width": null,
            "order": null,
            "_view_module_version": "1.2.0",
            "grid_template_areas": null,
            "object_position": null,
            "object_fit": null,
            "grid_auto_columns": null,
            "margin": null,
            "display": null,
            "left": null
          }
        }
      }
    }
  },
  "cells": [
    {
      "cell_type": "markdown",
      "metadata": {
        "id": "view-in-github",
        "colab_type": "text"
      },
      "source": [
        "<a href=\"https://colab.research.google.com/github/blennyblex/OpensourceProject/blob/main/fbprophet.ipynb\" target=\"_parent\"><img src=\"https://colab.research.google.com/assets/colab-badge.svg\" alt=\"Open In Colab\"/></a>"
      ]
    },
    {
      "cell_type": "code",
      "metadata": {
        "id": "9qu46uO9oHbJ"
      },
      "source": [
        "# pip install fbprophet"
      ],
      "execution_count": null,
      "outputs": []
    },
    {
      "cell_type": "code",
      "metadata": {
        "id": "16X9Qr_vMQoe"
      },
      "source": [
        "import matplotlib.pyplot as plt\n",
        "%matplotlib inline"
      ],
      "execution_count": null,
      "outputs": []
    },
    {
      "cell_type": "code",
      "metadata": {
        "id": "b1iSVtbrK-8O",
        "outputId": "14ea98ea-df0a-46b4-8727-f1bd6b9e8f58",
        "colab": {
          "base_uri": "https://localhost:8080/",
          "height": 197
        }
      },
      "source": [
        "import pandas as pd\n",
        "import numpy as np\n",
        "\n",
        "from fbprophet import Prophet\n",
        "df=pd.read_csv(\"https://raw.githubusercontent.com/jbrownlee/Datasets/master/airline-passengers.csv\")\n",
        "df['Month']= pd.to_datetime(df['Month'])\n",
        "df = df.rename(columns={\"Month\": \"ds\", \"Passengers\": \"y\"})\n",
        "df.head()"
      ],
      "execution_count": null,
      "outputs": [
        {
          "output_type": "execute_result",
          "data": {
            "text/html": [
              "<div>\n",
              "<style scoped>\n",
              "    .dataframe tbody tr th:only-of-type {\n",
              "        vertical-align: middle;\n",
              "    }\n",
              "\n",
              "    .dataframe tbody tr th {\n",
              "        vertical-align: top;\n",
              "    }\n",
              "\n",
              "    .dataframe thead th {\n",
              "        text-align: right;\n",
              "    }\n",
              "</style>\n",
              "<table border=\"1\" class=\"dataframe\">\n",
              "  <thead>\n",
              "    <tr style=\"text-align: right;\">\n",
              "      <th></th>\n",
              "      <th>ds</th>\n",
              "      <th>y</th>\n",
              "    </tr>\n",
              "  </thead>\n",
              "  <tbody>\n",
              "    <tr>\n",
              "      <th>0</th>\n",
              "      <td>1949-01-01</td>\n",
              "      <td>112</td>\n",
              "    </tr>\n",
              "    <tr>\n",
              "      <th>1</th>\n",
              "      <td>1949-02-01</td>\n",
              "      <td>118</td>\n",
              "    </tr>\n",
              "    <tr>\n",
              "      <th>2</th>\n",
              "      <td>1949-03-01</td>\n",
              "      <td>132</td>\n",
              "    </tr>\n",
              "    <tr>\n",
              "      <th>3</th>\n",
              "      <td>1949-04-01</td>\n",
              "      <td>129</td>\n",
              "    </tr>\n",
              "    <tr>\n",
              "      <th>4</th>\n",
              "      <td>1949-05-01</td>\n",
              "      <td>121</td>\n",
              "    </tr>\n",
              "  </tbody>\n",
              "</table>\n",
              "</div>"
            ],
            "text/plain": [
              "          ds    y\n",
              "0 1949-01-01  112\n",
              "1 1949-02-01  118\n",
              "2 1949-03-01  132\n",
              "3 1949-04-01  129\n",
              "4 1949-05-01  121"
            ]
          },
          "metadata": {
            "tags": []
          },
          "execution_count": 3
        }
      ]
    },
    {
      "cell_type": "code",
      "metadata": {
        "id": "6sSlI9HTLMKf",
        "outputId": "6e22d3be-bc52-46d7-bc3c-a640ce42315f",
        "colab": {
          "base_uri": "https://localhost:8080/",
          "height": 494
        }
      },
      "source": [
        "model = Prophet()\n",
        "# model = Prophet(interval_width= 0.95, yearly_seasonality=True) giving it a confidence interval of 95%, by default, it is 80%, yearly_seasonality depends on your data\n",
        "model.fit(df)\n",
        "\n",
        "#predict for the next 10 months\n",
        "future = model.make_future_dataframe(periods=10, freq='M') \n",
        "forecast = model.predict(future) \n",
        "forecast.head()\n",
        "forecast[['ds', 'yhat', 'yhat_lower', 'yhat_upper', 'trend', 'trend_lower', 'trend_upper']]\n",
        "#yhat is the prediction while yhat_lower and yhat_upper are the upper and lower boundaries\n",
        "\n",
        "\n",
        "model.plot(forecast)\n",
        "plt.show()"
      ],
      "execution_count": null,
      "outputs": [
        {
          "output_type": "stream",
          "text": [
            "INFO:numexpr.utils:NumExpr defaulting to 2 threads.\n",
            "INFO:fbprophet:Disabling weekly seasonality. Run prophet with weekly_seasonality=True to override this.\n",
            "INFO:fbprophet:Disabling daily seasonality. Run prophet with daily_seasonality=True to override this.\n"
          ],
          "name": "stderr"
        },
        {
          "output_type": "display_data",
          "data": {
            "image/png": "[encoded data removed]",
            "text/plain": [
              "<Figure size 720x432 with 1 Axes>"
            ]
          },
          "metadata": {
            "tags": []
          }
        }
      ]
    },
    {
      "cell_type": "code",
      "metadata": {
        "id": "0-CVdoa_ML6E",
        "outputId": "5caa8478-8f5c-42e9-b7aa-51aed173860b",
        "colab": {
          "base_uri": "https://localhost:8080/",
          "height": 593
        }
      },
      "source": [
        "forecast"
      ],
      "execution_count": null,
      "outputs": [
        {
          "output_type": "execute_result",
          "data": {
            "text/html": [
              "<div>\n",
              "<style scoped>\n",
              "    .dataframe tbody tr th:only-of-type {\n",
              "        vertical-align: middle;\n",
              "    }\n",
              "\n",
              "    .dataframe tbody tr th {\n",
              "        vertical-align: top;\n",
              "    }\n",
              "\n",
              "    .dataframe thead th {\n",
              "        text-align: right;\n",
              "    }\n",
              "</style>\n",
              "<table border=\"1\" class=\"dataframe\">\n",
              "  <thead>\n",
              "    <tr style=\"text-align: right;\">\n",
              "      <th></th>\n",
              "      <th>ds</th>\n",
              "      <th>trend</th>\n",
              "      <th>yhat_lower</th>\n",
              "      <th>yhat_upper</th>\n",
              "      <th>trend_lower</th>\n",
              "      <th>trend_upper</th>\n",
              "      <th>additive_terms</th>\n",
              "      <th>additive_terms_lower</th>\n",
              "      <th>additive_terms_upper</th>\n",
              "      <th>yearly</th>\n",
              "      <th>yearly_lower</th>\n",
              "      <th>yearly_upper</th>\n",
              "      <th>multiplicative_terms</th>\n",
              "      <th>multiplicative_terms_lower</th>\n",
              "      <th>multiplicative_terms_upper</th>\n",
              "      <th>yhat</th>\n",
              "    </tr>\n",
              "  </thead>\n",
              "  <tbody>\n",
              "    <tr>\n",
              "      <th>0</th>\n",
              "      <td>1949-01-01</td>\n",
              "      <td>106.727984</td>\n",
              "      <td>55.279647</td>\n",
              "      <td>114.305296</td>\n",
              "      <td>106.727984</td>\n",
              "      <td>106.727984</td>\n",
              "      <td>-21.920631</td>\n",
              "      <td>-21.920631</td>\n",
              "      <td>-21.920631</td>\n",
              "      <td>-21.920631</td>\n",
              "      <td>-21.920631</td>\n",
              "      <td>-21.920631</td>\n",
              "      <td>0.0</td>\n",
              "      <td>0.0</td>\n",
              "      <td>0.0</td>\n",
              "      <td>84.807353</td>\n",
              "    </tr>\n",
              "    <tr>\n",
              "      <th>1</th>\n",
              "      <td>1949-02-01</td>\n",
              "      <td>108.901201</td>\n",
              "      <td>50.089848</td>\n",
              "      <td>108.378491</td>\n",
              "      <td>108.901201</td>\n",
              "      <td>108.901201</td>\n",
              "      <td>-30.682847</td>\n",
              "      <td>-30.682847</td>\n",
              "      <td>-30.682847</td>\n",
              "      <td>-30.682847</td>\n",
              "      <td>-30.682847</td>\n",
              "      <td>-30.682847</td>\n",
              "      <td>0.0</td>\n",
              "      <td>0.0</td>\n",
              "      <td>0.0</td>\n",
              "      <td>78.218354</td>\n",
              "    </tr>\n",
              "    <tr>\n",
              "      <th>2</th>\n",
              "      <td>1949-03-01</td>\n",
              "      <td>110.864107</td>\n",
              "      <td>82.153712</td>\n",
              "      <td>140.980279</td>\n",
              "      <td>110.864107</td>\n",
              "      <td>110.864107</td>\n",
              "      <td>-0.502710</td>\n",
              "      <td>-0.502710</td>\n",
              "      <td>-0.502710</td>\n",
              "      <td>-0.502710</td>\n",
              "      <td>-0.502710</td>\n",
              "      <td>-0.502710</td>\n",
              "      <td>0.0</td>\n",
              "      <td>0.0</td>\n",
              "      <td>0.0</td>\n",
              "      <td>110.361397</td>\n",
              "    </tr>\n",
              "    <tr>\n",
              "      <th>3</th>\n",
              "      <td>1949-04-01</td>\n",
              "      <td>113.037323</td>\n",
              "      <td>79.837069</td>\n",
              "      <td>137.921398</td>\n",
              "      <td>113.037323</td>\n",
              "      <td>113.037323</td>\n",
              "      <td>-5.185501</td>\n",
              "      <td>-5.185501</td>\n",
              "      <td>-5.185501</td>\n",
              "      <td>-5.185501</td>\n",
              "      <td>-5.185501</td>\n",
              "      <td>-5.185501</td>\n",
              "      <td>0.0</td>\n",
              "      <td>0.0</td>\n",
              "      <td>0.0</td>\n",
              "      <td>107.851823</td>\n",
              "    </tr>\n",
              "    <tr>\n",
              "      <th>4</th>\n",
              "      <td>1949-05-01</td>\n",
              "      <td>115.140437</td>\n",
              "      <td>82.564764</td>\n",
              "      <td>139.150983</td>\n",
              "      <td>115.140437</td>\n",
              "      <td>115.140437</td>\n",
              "      <td>-3.788702</td>\n",
              "      <td>-3.788702</td>\n",
              "      <td>-3.788702</td>\n",
              "      <td>-3.788702</td>\n",
              "      <td>-3.788702</td>\n",
              "      <td>-3.788702</td>\n",
              "      <td>0.0</td>\n",
              "      <td>0.0</td>\n",
              "      <td>0.0</td>\n",
              "      <td>111.351735</td>\n",
              "    </tr>\n",
              "    <tr>\n",
              "      <th>...</th>\n",
              "      <td>...</td>\n",
              "      <td>...</td>\n",
              "      <td>...</td>\n",
              "      <td>...</td>\n",
              "      <td>...</td>\n",
              "      <td>...</td>\n",
              "      <td>...</td>\n",
              "      <td>...</td>\n",
              "      <td>...</td>\n",
              "      <td>...</td>\n",
              "      <td>...</td>\n",
              "      <td>...</td>\n",
              "      <td>...</td>\n",
              "      <td>...</td>\n",
              "      <td>...</td>\n",
              "      <td>...</td>\n",
              "    </tr>\n",
              "    <tr>\n",
              "      <th>149</th>\n",
              "      <td>1961-05-31</td>\n",
              "      <td>502.558318</td>\n",
              "      <td>503.336978</td>\n",
              "      <td>564.240712</td>\n",
              "      <td>502.379155</td>\n",
              "      <td>502.715933</td>\n",
              "      <td>31.434601</td>\n",
              "      <td>31.434601</td>\n",
              "      <td>31.434601</td>\n",
              "      <td>31.434601</td>\n",
              "      <td>31.434601</td>\n",
              "      <td>31.434601</td>\n",
              "      <td>0.0</td>\n",
              "      <td>0.0</td>\n",
              "      <td>0.0</td>\n",
              "      <td>533.992919</td>\n",
              "    </tr>\n",
              "    <tr>\n",
              "      <th>150</th>\n",
              "      <td>1961-06-30</td>\n",
              "      <td>505.571811</td>\n",
              "      <td>547.489446</td>\n",
              "      <td>605.845632</td>\n",
              "      <td>505.337814</td>\n",
              "      <td>505.781195</td>\n",
              "      <td>71.490542</td>\n",
              "      <td>71.490542</td>\n",
              "      <td>71.490542</td>\n",
              "      <td>71.490542</td>\n",
              "      <td>71.490542</td>\n",
              "      <td>71.490542</td>\n",
              "      <td>0.0</td>\n",
              "      <td>0.0</td>\n",
              "      <td>0.0</td>\n",
              "      <td>577.062353</td>\n",
              "    </tr>\n",
              "    <tr>\n",
              "      <th>151</th>\n",
              "      <td>1961-07-31</td>\n",
              "      <td>508.685754</td>\n",
              "      <td>547.816472</td>\n",
              "      <td>605.989584</td>\n",
              "      <td>508.400381</td>\n",
              "      <td>508.955234</td>\n",
              "      <td>66.809872</td>\n",
              "      <td>66.809872</td>\n",
              "      <td>66.809872</td>\n",
              "      <td>66.809872</td>\n",
              "      <td>66.809872</td>\n",
              "      <td>66.809872</td>\n",
              "      <td>0.0</td>\n",
              "      <td>0.0</td>\n",
              "      <td>0.0</td>\n",
              "      <td>575.495626</td>\n",
              "    </tr>\n",
              "    <tr>\n",
              "      <th>152</th>\n",
              "      <td>1961-08-31</td>\n",
              "      <td>511.799697</td>\n",
              "      <td>502.891157</td>\n",
              "      <td>558.501742</td>\n",
              "      <td>511.451686</td>\n",
              "      <td>512.125165</td>\n",
              "      <td>17.269540</td>\n",
              "      <td>17.269540</td>\n",
              "      <td>17.269540</td>\n",
              "      <td>17.269540</td>\n",
              "      <td>17.269540</td>\n",
              "      <td>17.269540</td>\n",
              "      <td>0.0</td>\n",
              "      <td>0.0</td>\n",
              "      <td>0.0</td>\n",
              "      <td>529.069236</td>\n",
              "    </tr>\n",
              "    <tr>\n",
              "      <th>153</th>\n",
              "      <td>1961-09-30</td>\n",
              "      <td>514.813190</td>\n",
              "      <td>463.810941</td>\n",
              "      <td>520.099617</td>\n",
              "      <td>514.400601</td>\n",
              "      <td>515.201740</td>\n",
              "      <td>-22.511884</td>\n",
              "      <td>-22.511884</td>\n",
              "      <td>-22.511884</td>\n",
              "      <td>-22.511884</td>\n",
              "      <td>-22.511884</td>\n",
              "      <td>-22.511884</td>\n",
              "      <td>0.0</td>\n",
              "      <td>0.0</td>\n",
              "      <td>0.0</td>\n",
              "      <td>492.301306</td>\n",
              "    </tr>\n",
              "  </tbody>\n",
              "</table>\n",
              "<p>154 rows × 16 columns</p>\n",
              "</div>"
            ],
            "text/plain": [
              "            ds       trend  ...  multiplicative_terms_upper        yhat\n",
              "0   1949-01-01  106.727984  ...                         0.0   84.807353\n",
              "1   1949-02-01  108.901201  ...                         0.0   78.218354\n",
              "2   1949-03-01  110.864107  ...                         0.0  110.361397\n",
              "3   1949-04-01  113.037323  ...                         0.0  107.851823\n",
              "4   1949-05-01  115.140437  ...                         0.0  111.351735\n",
              "..         ...         ...  ...                         ...         ...\n",
              "149 1961-05-31  502.558318  ...                         0.0  533.992919\n",
              "150 1961-06-30  505.571811  ...                         0.0  577.062353\n",
              "151 1961-07-31  508.685754  ...                         0.0  575.495626\n",
              "152 1961-08-31  511.799697  ...                         0.0  529.069236\n",
              "153 1961-09-30  514.813190  ...                         0.0  492.301306\n",
              "\n",
              "[154 rows x 16 columns]"
            ]
          },
          "metadata": {
            "tags": []
          },
          "execution_count": 5
        }
      ]
    },
    {
      "cell_type": "code",
      "metadata": {
        "id": "2H47N-fHNB8s"
      },
      "source": [
        "# Note:\n",
        "# The black dots are the actual datapoints,\n",
        "#  the thick blue lines are the predictions, \n",
        "#  the light blues are the lower and upper boundary"
      ],
      "execution_count": null,
      "outputs": []
    },
    {
      "cell_type": "code",
      "metadata": {
        "id": "HQ9npT9rQapa",
        "outputId": "574201f2-4c94-4c69-ec05-6b1d24f1826f",
        "colab": {
          "base_uri": "https://localhost:8080/",
          "height": 864
        }
      },
      "source": [
        "# visualize each components (trends, monthly)\n",
        "model.plot_components(forecast)"
      ],
      "execution_count": null,
      "outputs": [
        {
          "output_type": "execute_result",
          "data": {
            "image/png": "[encoded data removed]",
            "text/plain": [
              "<Figure size 648x432 with 2 Axes>"
            ]
          },
          "metadata": {
            "tags": []
          },
          "execution_count": 8
        },
        {
          "output_type": "display_data",
          "data": {
            "image/png": "[encoded data removed]",
            "text/plain": [
              "<Figure size 648x432 with 2 Axes>"
            ]
          },
          "metadata": {
            "tags": []
          }
        }
      ]
    },
    {
      "cell_type": "code",
      "metadata": {
        "id": "P1iEm2AAXhAA",
        "outputId": "450f804a-a1a3-4f02-c8d7-5df2530e73ad",
        "colab": {
          "base_uri": "https://localhost:8080/",
          "height": 816
        }
      },
      "source": [
        "model.params"
      ],
      "execution_count": null,
      "outputs": [
        {
          "output_type": "execute_result",
          "data": {
            "text/plain": [
              "{'beta': array([[ 0.00724577, -0.07534109,  0.02759604,  0.01830153,  0.00118025,\n",
              "         -0.01343922,  0.00626601, -0.00239768,  0.00224678, -0.01070237,\n",
              "         -0.02286251, -0.00340451,  0.00757487,  0.01636497,  0.0160825 ,\n",
              "          0.01189631,  0.01526208,  0.00925248,  0.00287963,  0.01291007]]),\n",
              " 'delta': array([[-2.67226778e-10,  1.53136041e-09,  2.19196827e-09,\n",
              "          1.64517902e-08,  1.61802412e-08,  2.05722402e-09,\n",
              "          1.63361653e-08,  5.94644579e-09,  2.26677328e-08,\n",
              "          1.50883137e-06,  2.33522763e-06,  2.78793897e-02,\n",
              "          4.21768875e-02,  5.45488568e-02,  5.12898785e-02,\n",
              "          3.11191009e-02,  5.29744773e-03,  7.76034034e-08,\n",
              "         -3.99573448e-09, -1.15805152e-08, -4.30104888e-09,\n",
              "          1.91872916e-08,  1.11894597e-06,  7.33752043e-06,\n",
              "          3.75512357e-07]]),\n",
              " 'k': array([[0.49050099]]),\n",
              " 'm': array([[0.1715884]]),\n",
              " 'sigma_obs': array([[0.03611776]]),\n",
              " 'trend': array([[0.1715884 , 0.17508232, 0.17823811, 0.18173203, 0.18511324,\n",
              "         0.18860716, 0.19198837, 0.19548229, 0.19897621, 0.20235742,\n",
              "         0.20585134, 0.20923255, 0.21272646, 0.21622038, 0.21937618,\n",
              "         0.2228701 , 0.22625131, 0.22974523, 0.23312644, 0.23662035,\n",
              "         0.24011427, 0.24349548, 0.2469894 , 0.25037061, 0.25386453,\n",
              "         0.25735845, 0.26051425, 0.26400816, 0.26738938, 0.27088329,\n",
              "         0.2742645 , 0.27775842, 0.28125234, 0.28463355, 0.28812747,\n",
              "         0.29150868, 0.2950026 , 0.29849652, 0.30176502, 0.30525894,\n",
              "         0.30864015, 0.31213407, 0.31551528, 0.3190092 , 0.32250312,\n",
              "         0.32588433, 0.32937825, 0.33275947, 0.3362534 , 0.33974733,\n",
              "         0.34290314, 0.34639708, 0.34977832, 0.35327227, 0.3566535 ,\n",
              "         0.36014745, 0.36383999, 0.36741341, 0.37110594, 0.37467936,\n",
              "         0.37867233, 0.3826653 , 0.38627185, 0.39026482, 0.39412898,\n",
              "         0.39851051, 0.4027507 , 0.40713223, 0.41151376, 0.41610751,\n",
              "         0.42085438, 0.42544813, 0.430195  , 0.43494188, 0.43942959,\n",
              "         0.44439813, 0.4492064 , 0.45417494, 0.4589832 , 0.46398948,\n",
              "         0.46899576, 0.47384054, 0.47884681, 0.4836916 , 0.48869787,\n",
              "         0.49370415, 0.49838744, 0.50339372, 0.5082385 , 0.51324478,\n",
              "         0.51808956, 0.52309583, 0.52810211, 0.53294689, 0.53795317,\n",
              "         0.54279795, 0.54780423, 0.5528105 , 0.5573323 , 0.56233858,\n",
              "         0.56718336, 0.57218964, 0.57703442, 0.5820407 , 0.58704697,\n",
              "         0.59189176, 0.59689804, 0.60174283, 0.60674911, 0.6117554 ,\n",
              "         0.61627725, 0.62128359, 0.62612843, 0.63113476, 0.63597961,\n",
              "         0.64098594, 0.64599228, 0.65083713, 0.65584347, 0.66068831,\n",
              "         0.66569465, 0.67070099, 0.67522284, 0.68022918, 0.68507403,\n",
              "         0.69008037, 0.69492521, 0.69993155, 0.70493789, 0.70978273,\n",
              "         0.71478907, 0.71963391, 0.72464025, 0.72964659, 0.73432994,\n",
              "         0.73933628, 0.74418112, 0.74918746, 0.75403231, 0.75903865,\n",
              "         0.76404499, 0.76888983, 0.77389617, 0.77874101]])}"
            ]
          },
          "metadata": {
            "tags": []
          },
          "execution_count": 27
        }
      ]
    },
    {
      "cell_type": "code",
      "metadata": {
        "id": "4f6XyfauQ1eX"
      },
      "source": [
        "# cross validation"
      ],
      "execution_count": null,
      "outputs": []
    },
    {
      "cell_type": "code",
      "metadata": {
        "id": "c1IJtH0lRNZc"
      },
      "source": [
        "# for measuring forecast error by comparing the predicted valyes with the actual values\n",
        "# initial: the size of the initial training period\n",
        "# period: the spacing between cutoff dates\n",
        "# horizon: the forecast horzon(dates minus cutoff)\n",
        "# by default, the initial training period is set to three times the horizon, and the cutoffs are made every half a horizon\n",
        "# cutoff is how far into the future the forecast was"
      ],
      "execution_count": null,
      "outputs": []
    },
    {
      "cell_type": "code",
      "metadata": {
        "id": "KcSXQC1aSS17"
      },
      "source": [
        "from fbprophet.diagnostics import cross_validation"
      ],
      "execution_count": null,
      "outputs": []
    },
    {
      "cell_type": "code",
      "metadata": {
        "id": "ftcIezP-SemU",
        "outputId": "ffca5faa-19d4-474a-a2e8-a1cc89f252e8",
        "colab": {
          "base_uri": "https://localhost:8080/",
          "height": 34
        }
      },
      "source": [
        "df.shape"
      ],
      "execution_count": null,
      "outputs": [
        {
          "output_type": "execute_result",
          "data": {
            "text/plain": [
              "(144, 2)"
            ]
          },
          "metadata": {
            "tags": []
          },
          "execution_count": 12
        }
      ]
    },
    {
      "cell_type": "code",
      "metadata": {
        "id": "LaTvx8d5ShSH",
        "outputId": "90cd80bf-b38a-4bb5-e9da-ae7f493c214f",
        "colab": {
          "base_uri": "https://localhost:8080/",
          "height": 34
        }
      },
      "source": [
        "365*3"
      ],
      "execution_count": null,
      "outputs": [
        {
          "output_type": "execute_result",
          "data": {
            "text/plain": [
              "1095"
            ]
          },
          "metadata": {
            "tags": []
          },
          "execution_count": 13
        }
      ]
    },
    {
      "cell_type": "code",
      "metadata": {
        "id": "riVsbaKFSos0",
        "outputId": "3498d03f-6514-4f92-86c1-610d776bbc24",
        "colab": {
          "base_uri": "https://localhost:8080/",
          "height": 84,
          "referenced_widgets": [
            "25ee24bb362b49cfaae068b7e230ad0f",
            "5922573f6c394a96945f65a1af325c0f",
            "542760b6e50743d1999de5afddf7c146",
            "d7c1d08e5e084580a1e46bb1a3c67899",
            "20ef3c612c72499693cab273b6685dde",
            "34d7befd87c546179e901b0e0b02c6f7",
            "e7f40e66899d4680a4f43bb681030a30",
            "4efc3fcc787f4c88be6c88bcd7ed23f2"
          ]
        }
      },
      "source": [
        "cv = cross_validation(model, initial = \"1095 days\", period = \"180 days\", horizon = \"365 days\")"
      ],
      "execution_count": null,
      "outputs": [
        {
          "output_type": "stream",
          "text": [
            "INFO:fbprophet:Making 17 forecasts with cutoffs between 1952-01-13 00:00:00 and 1959-12-02 00:00:00\n"
          ],
          "name": "stderr"
        },
        {
          "output_type": "display_data",
          "data": {
            "application/vnd.jupyter.widget-view+json": {
              "model_id": "25ee24bb362b49cfaae068b7e230ad0f",
              "version_minor": 0,
              "version_major": 2
            },
            "text/plain": [
              "HBox(children=(FloatProgress(value=0.0, max=17.0), HTML(value='')))"
            ]
          },
          "metadata": {
            "tags": []
          }
        },
        {
          "output_type": "stream",
          "text": [
            "\n"
          ],
          "name": "stdout"
        }
      ]
    },
    {
      "cell_type": "code",
      "metadata": {
        "id": "r2Q8s5meS6yy",
        "outputId": "eeee9e8d-6e94-448d-f9af-050ac5accf17",
        "colab": {
          "base_uri": "https://localhost:8080/",
          "height": 191,
          "referenced_widgets": [
            "e11f5541c7bc4ff596cf3fe06fe722b8",
            "a133d66fbf184125b78661fd71d09239",
            "1e9a5a45cd9248aea7bec0708558fc02",
            "96e6bd1fbfea4d1190076dcc64cd2864",
            "c3690ab35728433591ed8bfcd5a375fc",
            "954b8322098e414c9fe98cd7507350c0",
            "8cb81dc490d1455abdbb8e0922360c2a",
            "2d909bd6d02243abba3ba097e5062569"
          ]
        }
      },
      "source": [
        "cv1 = cross_validation(model, initial = \"144 days\", period = \"180 days\", horizon=\"365 days\")"
      ],
      "execution_count": null,
      "outputs": [
        {
          "output_type": "stream",
          "text": [
            "INFO:fbprophet:Making 22 forecasts with cutoffs between 1949-07-27 00:00:00 and 1959-12-02 00:00:00\n",
            "WARNING:fbprophet:Seasonality has period of 365.25 days which is larger than initial window. Consider increasing initial.\n"
          ],
          "name": "stderr"
        },
        {
          "output_type": "display_data",
          "data": {
            "application/vnd.jupyter.widget-view+json": {
              "model_id": "e11f5541c7bc4ff596cf3fe06fe722b8",
              "version_minor": 0,
              "version_major": 2
            },
            "text/plain": [
              "HBox(children=(FloatProgress(value=0.0, max=22.0), HTML(value='')))"
            ]
          },
          "metadata": {
            "tags": []
          }
        },
        {
          "output_type": "stream",
          "text": [
            "INFO:fbprophet:n_changepoints greater than number of observations. Using 4.\n",
            "INFO:fbprophet:n_changepoints greater than number of observations. Using 9.\n",
            "INFO:fbprophet:n_changepoints greater than number of observations. Using 14.\n",
            "INFO:fbprophet:n_changepoints greater than number of observations. Using 19.\n",
            "INFO:fbprophet:n_changepoints greater than number of observations. Using 23.\n"
          ],
          "name": "stderr"
        },
        {
          "output_type": "stream",
          "text": [
            "\n"
          ],
          "name": "stdout"
        }
      ]
    },
    {
      "cell_type": "code",
      "metadata": {
        "id": "A3NaYWi9TcsO",
        "outputId": "a7906881-7a0c-41ae-c1e7-adfbd3ed3dec",
        "colab": {
          "base_uri": "https://localhost:8080/",
          "height": 197
        }
      },
      "source": [
        " cv.head()"
      ],
      "execution_count": null,
      "outputs": [
        {
          "output_type": "execute_result",
          "data": {
            "text/html": [
              "<div>\n",
              "<style scoped>\n",
              "    .dataframe tbody tr th:only-of-type {\n",
              "        vertical-align: middle;\n",
              "    }\n",
              "\n",
              "    .dataframe tbody tr th {\n",
              "        vertical-align: top;\n",
              "    }\n",
              "\n",
              "    .dataframe thead th {\n",
              "        text-align: right;\n",
              "    }\n",
              "</style>\n",
              "<table border=\"1\" class=\"dataframe\">\n",
              "  <thead>\n",
              "    <tr style=\"text-align: right;\">\n",
              "      <th></th>\n",
              "      <th>ds</th>\n",
              "      <th>yhat</th>\n",
              "      <th>yhat_lower</th>\n",
              "      <th>yhat_upper</th>\n",
              "      <th>y</th>\n",
              "      <th>cutoff</th>\n",
              "    </tr>\n",
              "  </thead>\n",
              "  <tbody>\n",
              "    <tr>\n",
              "      <th>0</th>\n",
              "      <td>1952-02-01</td>\n",
              "      <td>176.418549</td>\n",
              "      <td>173.050675</td>\n",
              "      <td>180.118643</td>\n",
              "      <td>180</td>\n",
              "      <td>1952-01-13</td>\n",
              "    </tr>\n",
              "    <tr>\n",
              "      <th>1</th>\n",
              "      <td>1952-03-01</td>\n",
              "      <td>190.922735</td>\n",
              "      <td>187.402444</td>\n",
              "      <td>194.218922</td>\n",
              "      <td>193</td>\n",
              "      <td>1952-01-13</td>\n",
              "    </tr>\n",
              "    <tr>\n",
              "      <th>2</th>\n",
              "      <td>1952-04-01</td>\n",
              "      <td>199.998319</td>\n",
              "      <td>196.796049</td>\n",
              "      <td>203.398318</td>\n",
              "      <td>181</td>\n",
              "      <td>1952-01-13</td>\n",
              "    </tr>\n",
              "    <tr>\n",
              "      <th>3</th>\n",
              "      <td>1952-05-01</td>\n",
              "      <td>183.896474</td>\n",
              "      <td>180.162610</td>\n",
              "      <td>187.625155</td>\n",
              "      <td>183</td>\n",
              "      <td>1952-01-13</td>\n",
              "    </tr>\n",
              "    <tr>\n",
              "      <th>4</th>\n",
              "      <td>1952-06-01</td>\n",
              "      <td>208.184847</td>\n",
              "      <td>204.638557</td>\n",
              "      <td>211.763160</td>\n",
              "      <td>218</td>\n",
              "      <td>1952-01-13</td>\n",
              "    </tr>\n",
              "  </tbody>\n",
              "</table>\n",
              "</div>"
            ],
            "text/plain": [
              "          ds        yhat  yhat_lower  yhat_upper    y     cutoff\n",
              "0 1952-02-01  176.418549  173.050675  180.118643  180 1952-01-13\n",
              "1 1952-03-01  190.922735  187.402444  194.218922  193 1952-01-13\n",
              "2 1952-04-01  199.998319  196.796049  203.398318  181 1952-01-13\n",
              "3 1952-05-01  183.896474  180.162610  187.625155  183 1952-01-13\n",
              "4 1952-06-01  208.184847  204.638557  211.763160  218 1952-01-13"
            ]
          },
          "metadata": {
            "tags": []
          },
          "execution_count": 18
        }
      ]
    },
    {
      "cell_type": "code",
      "metadata": {
        "id": "Lmk28N3SUHiy",
        "outputId": "c97d3fe6-72de-4c03-8031-c41607bc9ce5",
        "colab": {
          "base_uri": "https://localhost:8080/",
          "height": 197
        }
      },
      "source": [
        "cv1.head()"
      ],
      "execution_count": null,
      "outputs": [
        {
          "output_type": "execute_result",
          "data": {
            "text/html": [
              "<div>\n",
              "<style scoped>\n",
              "    .dataframe tbody tr th:only-of-type {\n",
              "        vertical-align: middle;\n",
              "    }\n",
              "\n",
              "    .dataframe tbody tr th {\n",
              "        vertical-align: top;\n",
              "    }\n",
              "\n",
              "    .dataframe thead th {\n",
              "        text-align: right;\n",
              "    }\n",
              "</style>\n",
              "<table border=\"1\" class=\"dataframe\">\n",
              "  <thead>\n",
              "    <tr style=\"text-align: right;\">\n",
              "      <th></th>\n",
              "      <th>ds</th>\n",
              "      <th>yhat</th>\n",
              "      <th>yhat_lower</th>\n",
              "      <th>yhat_upper</th>\n",
              "      <th>y</th>\n",
              "      <th>cutoff</th>\n",
              "    </tr>\n",
              "  </thead>\n",
              "  <tbody>\n",
              "    <tr>\n",
              "      <th>0</th>\n",
              "      <td>1949-08-01</td>\n",
              "      <td>1650.508772</td>\n",
              "      <td>1650.508772</td>\n",
              "      <td>1650.508772</td>\n",
              "      <td>148</td>\n",
              "      <td>1949-07-27</td>\n",
              "    </tr>\n",
              "    <tr>\n",
              "      <th>1</th>\n",
              "      <td>1949-09-01</td>\n",
              "      <td>2287.744680</td>\n",
              "      <td>2287.744679</td>\n",
              "      <td>2287.744680</td>\n",
              "      <td>136</td>\n",
              "      <td>1949-07-27</td>\n",
              "    </tr>\n",
              "    <tr>\n",
              "      <th>2</th>\n",
              "      <td>1949-10-01</td>\n",
              "      <td>-126.223737</td>\n",
              "      <td>-126.223738</td>\n",
              "      <td>-126.223736</td>\n",
              "      <td>119</td>\n",
              "      <td>1949-07-27</td>\n",
              "    </tr>\n",
              "    <tr>\n",
              "      <th>3</th>\n",
              "      <td>1949-11-01</td>\n",
              "      <td>658.141476</td>\n",
              "      <td>658.141475</td>\n",
              "      <td>658.141478</td>\n",
              "      <td>104</td>\n",
              "      <td>1949-07-27</td>\n",
              "    </tr>\n",
              "    <tr>\n",
              "      <th>4</th>\n",
              "      <td>1949-12-01</td>\n",
              "      <td>-990.047745</td>\n",
              "      <td>-990.047747</td>\n",
              "      <td>-990.047743</td>\n",
              "      <td>118</td>\n",
              "      <td>1949-07-27</td>\n",
              "    </tr>\n",
              "  </tbody>\n",
              "</table>\n",
              "</div>"
            ],
            "text/plain": [
              "          ds         yhat   yhat_lower   yhat_upper    y     cutoff\n",
              "0 1949-08-01  1650.508772  1650.508772  1650.508772  148 1949-07-27\n",
              "1 1949-09-01  2287.744680  2287.744679  2287.744680  136 1949-07-27\n",
              "2 1949-10-01  -126.223737  -126.223738  -126.223736  119 1949-07-27\n",
              "3 1949-11-01   658.141476   658.141475   658.141478  104 1949-07-27\n",
              "4 1949-12-01  -990.047745  -990.047747  -990.047743  118 1949-07-27"
            ]
          },
          "metadata": {
            "tags": []
          },
          "execution_count": 19
        }
      ]
    },
    {
      "cell_type": "code",
      "metadata": {
        "id": "FBpcfXsLUL4z"
      },
      "source": [
        "# performance metrics "
      ],
      "execution_count": null,
      "outputs": []
    },
    {
      "cell_type": "code",
      "metadata": {
        "id": "1vrQxamKUL7X"
      },
      "source": [
        "from fbprophet.diagnostics import performance_metrics"
      ],
      "execution_count": null,
      "outputs": []
    },
    {
      "cell_type": "code",
      "metadata": {
        "id": "roqcU8CcUL_T"
      },
      "source": [
        "df_pm = performance_metrics(cv)\n",
        "df_pm1 = performance_metrics(cv1)"
      ],
      "execution_count": null,
      "outputs": []
    },
    {
      "cell_type": "code",
      "metadata": {
        "id": "MdVmCYBlU4ot",
        "outputId": "88f6e292-201d-4a0e-bdb0-a3ac4fe4a8cb",
        "colab": {
          "base_uri": "https://localhost:8080/",
          "height": 406
        }
      },
      "source": [
        "df_pm"
      ],
      "execution_count": null,
      "outputs": [
        {
          "output_type": "execute_result",
          "data": {
            "text/html": [
              "<div>\n",
              "<style scoped>\n",
              "    .dataframe tbody tr th:only-of-type {\n",
              "        vertical-align: middle;\n",
              "    }\n",
              "\n",
              "    .dataframe tbody tr th {\n",
              "        vertical-align: top;\n",
              "    }\n",
              "\n",
              "    .dataframe thead th {\n",
              "        text-align: right;\n",
              "    }\n",
              "</style>\n",
              "<table border=\"1\" class=\"dataframe\">\n",
              "  <thead>\n",
              "    <tr style=\"text-align: right;\">\n",
              "      <th></th>\n",
              "      <th>horizon</th>\n",
              "      <th>mse</th>\n",
              "      <th>rmse</th>\n",
              "      <th>mae</th>\n",
              "      <th>mape</th>\n",
              "      <th>mdape</th>\n",
              "      <th>coverage</th>\n",
              "    </tr>\n",
              "  </thead>\n",
              "  <tbody>\n",
              "    <tr>\n",
              "      <th>0</th>\n",
              "      <td>40 days</td>\n",
              "      <td>1183.572611</td>\n",
              "      <td>34.403090</td>\n",
              "      <td>27.582475</td>\n",
              "      <td>0.081440</td>\n",
              "      <td>0.085545</td>\n",
              "      <td>0.300</td>\n",
              "    </tr>\n",
              "    <tr>\n",
              "      <th>1</th>\n",
              "      <td>42 days</td>\n",
              "      <td>1266.031591</td>\n",
              "      <td>35.581338</td>\n",
              "      <td>29.414793</td>\n",
              "      <td>0.085617</td>\n",
              "      <td>0.088420</td>\n",
              "      <td>0.250</td>\n",
              "    </tr>\n",
              "    <tr>\n",
              "      <th>2</th>\n",
              "      <td>46 days</td>\n",
              "      <td>1160.583871</td>\n",
              "      <td>34.067343</td>\n",
              "      <td>28.276413</td>\n",
              "      <td>0.083493</td>\n",
              "      <td>0.088420</td>\n",
              "      <td>0.250</td>\n",
              "    </tr>\n",
              "    <tr>\n",
              "      <th>3</th>\n",
              "      <td>47 days</td>\n",
              "      <td>1309.610276</td>\n",
              "      <td>36.188538</td>\n",
              "      <td>30.987011</td>\n",
              "      <td>0.089271</td>\n",
              "      <td>0.090918</td>\n",
              "      <td>0.200</td>\n",
              "    </tr>\n",
              "    <tr>\n",
              "      <th>4</th>\n",
              "      <td>48 days</td>\n",
              "      <td>1123.832675</td>\n",
              "      <td>33.523614</td>\n",
              "      <td>28.041339</td>\n",
              "      <td>0.082426</td>\n",
              "      <td>0.088420</td>\n",
              "      <td>0.250</td>\n",
              "    </tr>\n",
              "    <tr>\n",
              "      <th>...</th>\n",
              "      <td>...</td>\n",
              "      <td>...</td>\n",
              "      <td>...</td>\n",
              "      <td>...</td>\n",
              "      <td>...</td>\n",
              "      <td>...</td>\n",
              "      <td>...</td>\n",
              "    </tr>\n",
              "    <tr>\n",
              "      <th>153</th>\n",
              "      <td>359 days</td>\n",
              "      <td>826.276631</td>\n",
              "      <td>28.745028</td>\n",
              "      <td>22.604399</td>\n",
              "      <td>0.069416</td>\n",
              "      <td>0.061258</td>\n",
              "      <td>0.275</td>\n",
              "    </tr>\n",
              "    <tr>\n",
              "      <th>154</th>\n",
              "      <td>360 days</td>\n",
              "      <td>830.174134</td>\n",
              "      <td>28.812743</td>\n",
              "      <td>22.918286</td>\n",
              "      <td>0.070380</td>\n",
              "      <td>0.061258</td>\n",
              "      <td>0.250</td>\n",
              "    </tr>\n",
              "    <tr>\n",
              "      <th>155</th>\n",
              "      <td>362 days</td>\n",
              "      <td>929.131458</td>\n",
              "      <td>30.481658</td>\n",
              "      <td>24.265580</td>\n",
              "      <td>0.069287</td>\n",
              "      <td>0.061258</td>\n",
              "      <td>0.250</td>\n",
              "    </tr>\n",
              "    <tr>\n",
              "      <th>156</th>\n",
              "      <td>364 days</td>\n",
              "      <td>900.211216</td>\n",
              "      <td>30.003520</td>\n",
              "      <td>23.092411</td>\n",
              "      <td>0.066087</td>\n",
              "      <td>0.049586</td>\n",
              "      <td>0.300</td>\n",
              "    </tr>\n",
              "    <tr>\n",
              "      <th>157</th>\n",
              "      <td>365 days</td>\n",
              "      <td>1056.824025</td>\n",
              "      <td>32.508830</td>\n",
              "      <td>25.131648</td>\n",
              "      <td>0.071787</td>\n",
              "      <td>0.059901</td>\n",
              "      <td>0.350</td>\n",
              "    </tr>\n",
              "  </tbody>\n",
              "</table>\n",
              "<p>158 rows × 7 columns</p>\n",
              "</div>"
            ],
            "text/plain": [
              "     horizon          mse       rmse        mae      mape     mdape  coverage\n",
              "0    40 days  1183.572611  34.403090  27.582475  0.081440  0.085545     0.300\n",
              "1    42 days  1266.031591  35.581338  29.414793  0.085617  0.088420     0.250\n",
              "2    46 days  1160.583871  34.067343  28.276413  0.083493  0.088420     0.250\n",
              "3    47 days  1309.610276  36.188538  30.987011  0.089271  0.090918     0.200\n",
              "4    48 days  1123.832675  33.523614  28.041339  0.082426  0.088420     0.250\n",
              "..       ...          ...        ...        ...       ...       ...       ...\n",
              "153 359 days   826.276631  28.745028  22.604399  0.069416  0.061258     0.275\n",
              "154 360 days   830.174134  28.812743  22.918286  0.070380  0.061258     0.250\n",
              "155 362 days   929.131458  30.481658  24.265580  0.069287  0.061258     0.250\n",
              "156 364 days   900.211216  30.003520  23.092411  0.066087  0.049586     0.300\n",
              "157 365 days  1056.824025  32.508830  25.131648  0.071787  0.059901     0.350\n",
              "\n",
              "[158 rows x 7 columns]"
            ]
          },
          "metadata": {
            "tags": []
          },
          "execution_count": 23
        }
      ]
    },
    {
      "cell_type": "code",
      "metadata": {
        "id": "BeMhVBU3Ypbb",
        "outputId": "f73e8a95-fbe8-4555-8659-fa77972646ce",
        "colab": {
          "base_uri": "https://localhost:8080/",
          "height": 406
        }
      },
      "source": [
        "df_pm1"
      ],
      "execution_count": null,
      "outputs": [
        {
          "output_type": "execute_result",
          "data": {
            "text/html": [
              "<div>\n",
              "<style scoped>\n",
              "    .dataframe tbody tr th:only-of-type {\n",
              "        vertical-align: middle;\n",
              "    }\n",
              "\n",
              "    .dataframe tbody tr th {\n",
              "        vertical-align: top;\n",
              "    }\n",
              "\n",
              "    .dataframe thead th {\n",
              "        text-align: right;\n",
              "    }\n",
              "</style>\n",
              "<table border=\"1\" class=\"dataframe\">\n",
              "  <thead>\n",
              "    <tr style=\"text-align: right;\">\n",
              "      <th></th>\n",
              "      <th>horizon</th>\n",
              "      <th>mse</th>\n",
              "      <th>rmse</th>\n",
              "      <th>mae</th>\n",
              "      <th>mape</th>\n",
              "      <th>mdape</th>\n",
              "      <th>coverage</th>\n",
              "    </tr>\n",
              "  </thead>\n",
              "  <tbody>\n",
              "    <tr>\n",
              "      <th>0</th>\n",
              "      <td>37 days</td>\n",
              "      <td>268935.429851</td>\n",
              "      <td>518.589847</td>\n",
              "      <td>178.071346</td>\n",
              "      <td>1.182024</td>\n",
              "      <td>0.090918</td>\n",
              "      <td>0.153846</td>\n",
              "    </tr>\n",
              "    <tr>\n",
              "      <th>1</th>\n",
              "      <td>40 days</td>\n",
              "      <td>268938.608436</td>\n",
              "      <td>518.592912</td>\n",
              "      <td>178.295457</td>\n",
              "      <td>1.182749</td>\n",
              "      <td>0.090918</td>\n",
              "      <td>0.153846</td>\n",
              "    </tr>\n",
              "    <tr>\n",
              "      <th>2</th>\n",
              "      <td>41 days</td>\n",
              "      <td>225472.676276</td>\n",
              "      <td>474.839632</td>\n",
              "      <td>148.975860</td>\n",
              "      <td>0.988800</td>\n",
              "      <td>0.090918</td>\n",
              "      <td>0.153846</td>\n",
              "    </tr>\n",
              "    <tr>\n",
              "      <th>3</th>\n",
              "      <td>42 days</td>\n",
              "      <td>181550.938446</td>\n",
              "      <td>426.087947</td>\n",
              "      <td>117.665101</td>\n",
              "      <td>0.770992</td>\n",
              "      <td>0.088420</td>\n",
              "      <td>0.134615</td>\n",
              "    </tr>\n",
              "    <tr>\n",
              "      <th>4</th>\n",
              "      <td>46 days</td>\n",
              "      <td>181081.518906</td>\n",
              "      <td>425.536742</td>\n",
              "      <td>115.680538</td>\n",
              "      <td>0.749199</td>\n",
              "      <td>0.088420</td>\n",
              "      <td>0.115385</td>\n",
              "    </tr>\n",
              "    <tr>\n",
              "      <th>...</th>\n",
              "      <td>...</td>\n",
              "      <td>...</td>\n",
              "      <td>...</td>\n",
              "      <td>...</td>\n",
              "      <td>...</td>\n",
              "      <td>...</td>\n",
              "      <td>...</td>\n",
              "    </tr>\n",
              "    <tr>\n",
              "      <th>189</th>\n",
              "      <td>359 days</td>\n",
              "      <td>19529.853772</td>\n",
              "      <td>139.749253</td>\n",
              "      <td>46.450328</td>\n",
              "      <td>0.223985</td>\n",
              "      <td>0.061258</td>\n",
              "      <td>0.269231</td>\n",
              "    </tr>\n",
              "    <tr>\n",
              "      <th>190</th>\n",
              "      <td>360 days</td>\n",
              "      <td>19532.851852</td>\n",
              "      <td>139.759979</td>\n",
              "      <td>46.691780</td>\n",
              "      <td>0.224727</td>\n",
              "      <td>0.061258</td>\n",
              "      <td>0.250000</td>\n",
              "    </tr>\n",
              "    <tr>\n",
              "      <th>191</th>\n",
              "      <td>362 days</td>\n",
              "      <td>19629.177146</td>\n",
              "      <td>140.104165</td>\n",
              "      <td>48.492448</td>\n",
              "      <td>0.227848</td>\n",
              "      <td>0.071572</td>\n",
              "      <td>0.230769</td>\n",
              "    </tr>\n",
              "    <tr>\n",
              "      <th>192</th>\n",
              "      <td>364 days</td>\n",
              "      <td>19608.397085</td>\n",
              "      <td>140.029986</td>\n",
              "      <td>47.621004</td>\n",
              "      <td>0.223493</td>\n",
              "      <td>0.061258</td>\n",
              "      <td>0.269231</td>\n",
              "    </tr>\n",
              "    <tr>\n",
              "      <th>193</th>\n",
              "      <td>365 days</td>\n",
              "      <td>19733.536531</td>\n",
              "      <td>140.476107</td>\n",
              "      <td>49.282053</td>\n",
              "      <td>0.227478</td>\n",
              "      <td>0.066374</td>\n",
              "      <td>0.269231</td>\n",
              "    </tr>\n",
              "  </tbody>\n",
              "</table>\n",
              "<p>194 rows × 7 columns</p>\n",
              "</div>"
            ],
            "text/plain": [
              "     horizon            mse        rmse  ...      mape     mdape  coverage\n",
              "0    37 days  268935.429851  518.589847  ...  1.182024  0.090918  0.153846\n",
              "1    40 days  268938.608436  518.592912  ...  1.182749  0.090918  0.153846\n",
              "2    41 days  225472.676276  474.839632  ...  0.988800  0.090918  0.153846\n",
              "3    42 days  181550.938446  426.087947  ...  0.770992  0.088420  0.134615\n",
              "4    46 days  181081.518906  425.536742  ...  0.749199  0.088420  0.115385\n",
              "..       ...            ...         ...  ...       ...       ...       ...\n",
              "189 359 days   19529.853772  139.749253  ...  0.223985  0.061258  0.269231\n",
              "190 360 days   19532.851852  139.759979  ...  0.224727  0.061258  0.250000\n",
              "191 362 days   19629.177146  140.104165  ...  0.227848  0.071572  0.230769\n",
              "192 364 days   19608.397085  140.029986  ...  0.223493  0.061258  0.269231\n",
              "193 365 days   19733.536531  140.476107  ...  0.227478  0.066374  0.269231\n",
              "\n",
              "[194 rows x 7 columns]"
            ]
          },
          "metadata": {
            "tags": []
          },
          "execution_count": 29
        }
      ]
    },
    {
      "cell_type": "code",
      "metadata": {
        "id": "aA9bY5EMU6tL"
      },
      "source": [
        "# visualizing performance metrics"
      ],
      "execution_count": null,
      "outputs": []
    },
    {
      "cell_type": "code",
      "metadata": {
        "id": "p9NxqxQvVHzu"
      },
      "source": [
        "from fbprophet.plot import plot_cross_validation_metric"
      ],
      "execution_count": null,
      "outputs": []
    },
    {
      "cell_type": "code",
      "metadata": {
        "id": "JhGyZovoVP8u",
        "outputId": "73ca0074-4d6a-47a4-da3a-7df27e598898",
        "colab": {
          "base_uri": "https://localhost:8080/",
          "height": 758
        }
      },
      "source": [
        "plot_cross_validation_metric(cv, metric=\"rmse\")"
      ],
      "execution_count": null,
      "outputs": [
        {
          "output_type": "execute_result",
          "data": {
            "image/png": "[encoded data removed]",
            "text/plain": [
              "<Figure size 720x432 with 1 Axes>"
            ]
          },
          "metadata": {
            "tags": []
          },
          "execution_count": 26
        },
        {
          "output_type": "display_data",
          "data": {
            "image/png": "[encoded data removed]",
            "text/plain": [
              "<Figure size 720x432 with 1 Axes>"
            ]
          },
          "metadata": {
            "tags": []
          }
        }
      ]
    },
    {
      "cell_type": "code",
      "metadata": {
        "id": "lPveGdkpVaq9",
        "outputId": "c9830553-49dc-4c9e-aefb-4e1ba7848b64",
        "colab": {
          "base_uri": "https://localhost:8080/",
          "height": 758
        }
      },
      "source": [
        "plot_cross_validation_metric(cv1, metric= \"rmse\")"
      ],
      "execution_count": null,
      "outputs": [
        {
          "output_type": "execute_result",
          "data": {
            "image/png": "[encoded data removed]",
            "text/plain": [
              "<Figure size 720x432 with 1 Axes>"
            ]
          },
          "metadata": {
            "tags": []
          },
          "execution_count": 30
        },
        {
          "output_type": "display_data",
          "data": {
            "image/png": "[encoded data removed]",
            "text/plain": [
              "<Figure size 720x432 with 1 Axes>"
            ]
          },
          "metadata": {
            "tags": []
          }
        }
      ]
    },
    {
      "cell_type": "code",
      "metadata": {
        "id": "isJ8CllsY0bE"
      },
      "source": [
        ""
      ],
      "execution_count": null,
      "outputs": []
    }
  ]
}